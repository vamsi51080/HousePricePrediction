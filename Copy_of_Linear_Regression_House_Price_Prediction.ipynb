{
  "nbformat": 4,
  "nbformat_minor": 0,
  "metadata": {
    "colab": {
      "name": "Copy of Linear Regression - House Price Prediction",
      "provenance": [],
      "collapsed_sections": [
        "0B_24xNNISFJ",
        "WEpmccFtUztr",
        "uSLfMrMOEneT"
      ],
      "toc_visible": true,
      "include_colab_link": true
    },
    "kernelspec": {
      "name": "python3",
      "display_name": "Python 3"
    }
  },
  "cells": [
    {
      "cell_type": "markdown",
      "metadata": {
        "id": "view-in-github",
        "colab_type": "text"
      },
      "source": [
        "<a href=\"https://colab.research.google.com/github/vamsi51080/HousePricePrediction/blob/main/Copy_of_Linear_Regression_House_Price_Prediction.ipynb\" target=\"_parent\"><img src=\"https://colab.research.google.com/assets/colab-badge.svg\" alt=\"Open In Colab\"/></a>"
      ]
    },
    {
      "cell_type": "code",
      "metadata": {
        "id": "oyZuT6YNrof7"
      },
      "source": [
        "import pandas as pd\n",
        "import numpy as np\n",
        "\n",
        "import matplotlib\n",
        "import matplotlib.pyplot as plt"
      ],
      "execution_count": null,
      "outputs": []
    },
    {
      "cell_type": "code",
      "metadata": {
        "id": "v5PzYXYXQBUy",
        "colab": {
          "base_uri": "https://localhost:8080/"
        },
        "outputId": "e46f1348-575b-4b92-c852-0773fd9c1330"
      },
      "source": [
        "!wget https://nkb-backend-otg-media-static.s3.ap-south-1.amazonaws.com/otg_prod/media/Tech_4.0/AI_ML/Datasets/house_price_prediction.csv"
      ],
      "execution_count": null,
      "outputs": [
        {
          "output_type": "stream",
          "text": [
            "--2021-08-20 10:26:02--  https://nkb-backend-otg-media-static.s3.ap-south-1.amazonaws.com/otg_prod/media/Tech_4.0/AI_ML/Datasets/house_price_prediction.csv\n",
            "Resolving nkb-backend-otg-media-static.s3.ap-south-1.amazonaws.com (nkb-backend-otg-media-static.s3.ap-south-1.amazonaws.com)... 52.219.62.19\n",
            "Connecting to nkb-backend-otg-media-static.s3.ap-south-1.amazonaws.com (nkb-backend-otg-media-static.s3.ap-south-1.amazonaws.com)|52.219.62.19|:443... connected.\n",
            "HTTP request sent, awaiting response... 200 OK\n",
            "Length: 319132 (312K) [text/csv]\n",
            "Saving to: ‘house_price_prediction.csv’\n",
            "\n",
            "house_price_predict 100%[===================>] 311.65K   320KB/s    in 1.0s    \n",
            "\n",
            "2021-08-20 10:26:04 (320 KB/s) - ‘house_price_prediction.csv’ saved [319132/319132]\n",
            "\n"
          ],
          "name": "stdout"
        }
      ]
    },
    {
      "cell_type": "code",
      "metadata": {
        "id": "v-_WMTAltw-V",
        "colab": {
          "base_uri": "https://localhost:8080/"
        },
        "outputId": "04c03e48-20d1-49e5-e7d9-f0e8645438d4"
      },
      "source": [
        "df = pd.read_csv('house_price_prediction.csv')\n",
        "df"
      ],
      "execution_count": null,
      "outputs": [
        {
          "output_type": "execute_result",
          "data": {
            "text/html": [
              "<div>\n",
              "<style scoped>\n",
              "    .dataframe tbody tr th:only-of-type {\n",
              "        vertical-align: middle;\n",
              "    }\n",
              "\n",
              "    .dataframe tbody tr th {\n",
              "        vertical-align: top;\n",
              "    }\n",
              "\n",
              "    .dataframe thead th {\n",
              "        text-align: right;\n",
              "    }\n",
              "</style>\n",
              "<table border=\"1\" class=\"dataframe\">\n",
              "  <thead>\n",
              "    <tr style=\"text-align: right;\">\n",
              "      <th></th>\n",
              "      <th>Avg. Area Income</th>\n",
              "      <th>House Age</th>\n",
              "      <th>Number of Rooms</th>\n",
              "      <th>Number of Bedrooms</th>\n",
              "      <th>Area Population</th>\n",
              "      <th>Price</th>\n",
              "    </tr>\n",
              "  </thead>\n",
              "  <tbody>\n",
              "    <tr>\n",
              "      <th>0</th>\n",
              "      <td>79248.642455</td>\n",
              "      <td>6.00</td>\n",
              "      <td>6.0</td>\n",
              "      <td>3.0</td>\n",
              "      <td>40173.072174</td>\n",
              "      <td>1.505891e+06</td>\n",
              "    </tr>\n",
              "    <tr>\n",
              "      <th>1</th>\n",
              "      <td>61287.067179</td>\n",
              "      <td>5.87</td>\n",
              "      <td>8.0</td>\n",
              "      <td>5.0</td>\n",
              "      <td>36882.159400</td>\n",
              "      <td>1.058988e+06</td>\n",
              "    </tr>\n",
              "    <tr>\n",
              "      <th>2</th>\n",
              "      <td>61287.067179</td>\n",
              "      <td>5.87</td>\n",
              "      <td>8.0</td>\n",
              "      <td>5.0</td>\n",
              "      <td>36882.159400</td>\n",
              "      <td>1.058988e+06</td>\n",
              "    </tr>\n",
              "    <tr>\n",
              "      <th>3</th>\n",
              "      <td>63345.240046</td>\n",
              "      <td>7.19</td>\n",
              "      <td>5.0</td>\n",
              "      <td>3.0</td>\n",
              "      <td>34310.242831</td>\n",
              "      <td>1.260617e+06</td>\n",
              "    </tr>\n",
              "    <tr>\n",
              "      <th>4</th>\n",
              "      <td>59982.197226</td>\n",
              "      <td>5.04</td>\n",
              "      <td>7.0</td>\n",
              "      <td>4.0</td>\n",
              "      <td>26354.109472</td>\n",
              "      <td>6.309435e+05</td>\n",
              "    </tr>\n",
              "    <tr>\n",
              "      <th>...</th>\n",
              "      <td>...</td>\n",
              "      <td>...</td>\n",
              "      <td>...</td>\n",
              "      <td>...</td>\n",
              "      <td>...</td>\n",
              "      <td>...</td>\n",
              "    </tr>\n",
              "    <tr>\n",
              "      <th>4998</th>\n",
              "      <td>60567.944140</td>\n",
              "      <td>7.83</td>\n",
              "      <td>6.0</td>\n",
              "      <td>3.0</td>\n",
              "      <td>22837.361035</td>\n",
              "      <td>1.060194e+06</td>\n",
              "    </tr>\n",
              "    <tr>\n",
              "      <th>4999</th>\n",
              "      <td>78491.275435</td>\n",
              "      <td>7.00</td>\n",
              "      <td>6.0</td>\n",
              "      <td>4.0</td>\n",
              "      <td>25616.115489</td>\n",
              "      <td>1.482618e+06</td>\n",
              "    </tr>\n",
              "    <tr>\n",
              "      <th>5000</th>\n",
              "      <td>63390.686886</td>\n",
              "      <td>7.25</td>\n",
              "      <td>4.0</td>\n",
              "      <td>2.0</td>\n",
              "      <td>33266.145490</td>\n",
              "      <td>1.030730e+06</td>\n",
              "    </tr>\n",
              "    <tr>\n",
              "      <th>5001</th>\n",
              "      <td>68001.331235</td>\n",
              "      <td>5.53</td>\n",
              "      <td>7.0</td>\n",
              "      <td>5.0</td>\n",
              "      <td>42625.620156</td>\n",
              "      <td>1.198657e+06</td>\n",
              "    </tr>\n",
              "    <tr>\n",
              "      <th>5002</th>\n",
              "      <td>65510.581804</td>\n",
              "      <td>5.99</td>\n",
              "      <td>6.0</td>\n",
              "      <td>4.0</td>\n",
              "      <td>46501.283803</td>\n",
              "      <td>1.298950e+06</td>\n",
              "    </tr>\n",
              "  </tbody>\n",
              "</table>\n",
              "<p>5003 rows × 6 columns</p>\n",
              "</div>"
            ],
            "text/plain": [
              "      Avg. Area Income  House Age  ...  Area Population         Price\n",
              "0         79248.642455       6.00  ...     40173.072174  1.505891e+06\n",
              "1         61287.067179       5.87  ...     36882.159400  1.058988e+06\n",
              "2         61287.067179       5.87  ...     36882.159400  1.058988e+06\n",
              "3         63345.240046       7.19  ...     34310.242831  1.260617e+06\n",
              "4         59982.197226       5.04  ...     26354.109472  6.309435e+05\n",
              "...                ...        ...  ...              ...           ...\n",
              "4998      60567.944140       7.83  ...     22837.361035  1.060194e+06\n",
              "4999      78491.275435       7.00  ...     25616.115489  1.482618e+06\n",
              "5000      63390.686886       7.25  ...     33266.145490  1.030730e+06\n",
              "5001      68001.331235       5.53  ...     42625.620156  1.198657e+06\n",
              "5002      65510.581804       5.99  ...     46501.283803  1.298950e+06\n",
              "\n",
              "[5003 rows x 6 columns]"
            ]
          },
          "metadata": {},
          "execution_count": 3
        }
      ]
    },
    {
      "cell_type": "markdown",
      "metadata": {
        "id": "KK4WyZgm343-"
      },
      "source": [
        "# Data Preprocessing"
      ]
    },
    {
      "cell_type": "markdown",
      "metadata": {
        "id": "lVzvUbr7wBZ4"
      },
      "source": [
        "## Handling missing values"
      ]
    },
    {
      "cell_type": "code",
      "metadata": {
        "id": "svtzxINGxEew",
        "colab": {
          "base_uri": "https://localhost:8080/"
        },
        "outputId": "f52df00f-3eed-432a-e367-b6fee3dbeeb5"
      },
      "source": [
        "df.isna().sum()"
      ],
      "execution_count": null,
      "outputs": [
        {
          "output_type": "execute_result",
          "data": {
            "text/plain": [
              "Avg. Area Income      0\n",
              "House Age             1\n",
              "Number of Rooms       1\n",
              "Number of Bedrooms    1\n",
              "Area Population       1\n",
              "Price                 2\n",
              "dtype: int64"
            ]
          },
          "metadata": {},
          "execution_count": 4
        }
      ]
    },
    {
      "cell_type": "code",
      "metadata": {
        "id": "brAKUb2W0Atn"
      },
      "source": [
        "df = df.dropna()"
      ],
      "execution_count": null,
      "outputs": []
    },
    {
      "cell_type": "markdown",
      "metadata": {
        "id": "TeitZGBkQyyp"
      },
      "source": [
        "## Handling duplicates"
      ]
    },
    {
      "cell_type": "code",
      "metadata": {
        "id": "iR-e90KGxHiP",
        "colab": {
          "base_uri": "https://localhost:8080/"
        },
        "outputId": "a2d48a7c-ecfd-4a3d-ea24-ef53bbee8aa6"
      },
      "source": [
        "df[df.duplicated()]"
      ],
      "execution_count": null,
      "outputs": [
        {
          "output_type": "execute_result",
          "data": {
            "text/html": [
              "<div>\n",
              "<style scoped>\n",
              "    .dataframe tbody tr th:only-of-type {\n",
              "        vertical-align: middle;\n",
              "    }\n",
              "\n",
              "    .dataframe tbody tr th {\n",
              "        vertical-align: top;\n",
              "    }\n",
              "\n",
              "    .dataframe thead th {\n",
              "        text-align: right;\n",
              "    }\n",
              "</style>\n",
              "<table border=\"1\" class=\"dataframe\">\n",
              "  <thead>\n",
              "    <tr style=\"text-align: right;\">\n",
              "      <th></th>\n",
              "      <th>Avg. Area Income</th>\n",
              "      <th>House Age</th>\n",
              "      <th>Number of Rooms</th>\n",
              "      <th>Number of Bedrooms</th>\n",
              "      <th>Area Population</th>\n",
              "      <th>Price</th>\n",
              "    </tr>\n",
              "  </thead>\n",
              "  <tbody>\n",
              "    <tr>\n",
              "      <th>2</th>\n",
              "      <td>61287.067179</td>\n",
              "      <td>5.87</td>\n",
              "      <td>8.0</td>\n",
              "      <td>5.0</td>\n",
              "      <td>36882.159400</td>\n",
              "      <td>1.058988e+06</td>\n",
              "    </tr>\n",
              "    <tr>\n",
              "      <th>10</th>\n",
              "      <td>81885.927184</td>\n",
              "      <td>4.42</td>\n",
              "      <td>8.0</td>\n",
              "      <td>6.0</td>\n",
              "      <td>40149.965749</td>\n",
              "      <td>1.545155e+06</td>\n",
              "    </tr>\n",
              "    <tr>\n",
              "      <th>4612</th>\n",
              "      <td>58568.628460</td>\n",
              "      <td>6.53</td>\n",
              "      <td>7.0</td>\n",
              "      <td>5.0</td>\n",
              "      <td>44067.087364</td>\n",
              "      <td>1.340075e+06</td>\n",
              "    </tr>\n",
              "  </tbody>\n",
              "</table>\n",
              "</div>"
            ],
            "text/plain": [
              "      Avg. Area Income  House Age  ...  Area Population         Price\n",
              "2         61287.067179       5.87  ...     36882.159400  1.058988e+06\n",
              "10        81885.927184       4.42  ...     40149.965749  1.545155e+06\n",
              "4612      58568.628460       6.53  ...     44067.087364  1.340075e+06\n",
              "\n",
              "[3 rows x 6 columns]"
            ]
          },
          "metadata": {},
          "execution_count": 6
        }
      ]
    },
    {
      "cell_type": "code",
      "metadata": {
        "id": "rIV6Oq53C_M0"
      },
      "source": [
        "df = df.drop_duplicates()"
      ],
      "execution_count": null,
      "outputs": []
    },
    {
      "cell_type": "markdown",
      "metadata": {
        "id": "qfpNtKjHQ1aG"
      },
      "source": [
        "## Handling outliers"
      ]
    },
    {
      "cell_type": "markdown",
      "metadata": {
        "id": "swxe3VRCQ954"
      },
      "source": [
        "Identifying outliers"
      ]
    },
    {
      "cell_type": "code",
      "metadata": {
        "id": "xfsjPtVZ2t14",
        "colab": {
          "base_uri": "https://localhost:8080/"
        },
        "outputId": "11ea8660-1ba5-4592-c0c2-20cfabecd2bd"
      },
      "source": [
        "df.boxplot(column='Price')"
      ],
      "execution_count": null,
      "outputs": [
        {
          "output_type": "execute_result",
          "data": {
            "text/plain": [
              "<matplotlib.axes._subplots.AxesSubplot at 0x7f614486bb90>"
            ]
          },
          "metadata": {},
          "execution_count": 8
        },
        {
          "output_type": "display_data",
          "data": {
            "image/png": "[encoded data removed]",
            "text/plain": [
              "<Figure size 432x288 with 1 Axes>"
            ]
          },
          "metadata": {
            "needs_background": "light"
          }
        }
      ]
    },
    {
      "cell_type": "code",
      "metadata": {
        "id": "-ryQqAyOfkP3",
        "colab": {
          "base_uri": "https://localhost:8080/"
        },
        "outputId": "f204ffac-d7b7-417e-8aef-14e98af3943a"
      },
      "source": [
        "df.loc[(df['Price'] < 5) | (df['Price'] > 3000000)]"
      ],
      "execution_count": null,
      "outputs": [
        {
          "output_type": "execute_result",
          "data": {
            "text/html": [
              "<div>\n",
              "<style scoped>\n",
              "    .dataframe tbody tr th:only-of-type {\n",
              "        vertical-align: middle;\n",
              "    }\n",
              "\n",
              "    .dataframe tbody tr th {\n",
              "        vertical-align: top;\n",
              "    }\n",
              "\n",
              "    .dataframe thead th {\n",
              "        text-align: right;\n",
              "    }\n",
              "</style>\n",
              "<table border=\"1\" class=\"dataframe\">\n",
              "  <thead>\n",
              "    <tr style=\"text-align: right;\">\n",
              "      <th></th>\n",
              "      <th>Avg. Area Income</th>\n",
              "      <th>House Age</th>\n",
              "      <th>Number of Rooms</th>\n",
              "      <th>Number of Bedrooms</th>\n",
              "      <th>Area Population</th>\n",
              "      <th>Price</th>\n",
              "    </tr>\n",
              "  </thead>\n",
              "  <tbody>\n",
              "    <tr>\n",
              "      <th>23</th>\n",
              "      <td>79545.458574</td>\n",
              "      <td>5.68</td>\n",
              "      <td>7.0</td>\n",
              "      <td>4.0</td>\n",
              "      <td>23086.800503</td>\n",
              "      <td>1.0</td>\n",
              "    </tr>\n",
              "    <tr>\n",
              "      <th>72</th>\n",
              "      <td>63538.346158</td>\n",
              "      <td>4.76</td>\n",
              "      <td>7.0</td>\n",
              "      <td>3.0</td>\n",
              "      <td>43282.183004</td>\n",
              "      <td>0.0</td>\n",
              "    </tr>\n",
              "    <tr>\n",
              "      <th>211</th>\n",
              "      <td>76326.592325</td>\n",
              "      <td>5.02</td>\n",
              "      <td>4.0</td>\n",
              "      <td>3.0</td>\n",
              "      <td>42779.831296</td>\n",
              "      <td>-933230.0</td>\n",
              "    </tr>\n",
              "    <tr>\n",
              "      <th>332</th>\n",
              "      <td>76056.289112</td>\n",
              "      <td>6.48</td>\n",
              "      <td>8.0</td>\n",
              "      <td>5.0</td>\n",
              "      <td>28470.701474</td>\n",
              "      <td>3323530.0</td>\n",
              "    </tr>\n",
              "  </tbody>\n",
              "</table>\n",
              "</div>"
            ],
            "text/plain": [
              "     Avg. Area Income  House Age  ...  Area Population      Price\n",
              "23       79545.458574       5.68  ...     23086.800503        1.0\n",
              "72       63538.346158       4.76  ...     43282.183004        0.0\n",
              "211      76326.592325       5.02  ...     42779.831296  -933230.0\n",
              "332      76056.289112       6.48  ...     28470.701474  3323530.0\n",
              "\n",
              "[4 rows x 6 columns]"
            ]
          },
          "metadata": {},
          "execution_count": 9
        }
      ]
    },
    {
      "cell_type": "markdown",
      "metadata": {
        "id": "Dwo5vjBpRCxb"
      },
      "source": [
        "Removing outliers"
      ]
    },
    {
      "cell_type": "code",
      "metadata": {
        "id": "U2WpsGKV_uLc"
      },
      "source": [
        "df = df.loc[(df['Price'] > 5) & (df['Price'] < 3000000)]"
      ],
      "execution_count": null,
      "outputs": []
    },
    {
      "cell_type": "markdown",
      "metadata": {
        "id": "P1N8mLHRh8Rj"
      },
      "source": [
        "**Converting the preprocessed dataframe to numpy array**"
      ]
    },
    {
      "cell_type": "code",
      "metadata": {
        "id": "jhpgI0tUiAx4",
        "colab": {
          "base_uri": "https://localhost:8080/"
        },
        "outputId": "baf7a5c8-53ed-41f3-c2e1-e5322bf65fea"
      },
      "source": [
        "housing_data = df.to_numpy()\n",
        "housing_data"
      ],
      "execution_count": null,
      "outputs": [
        {
          "output_type": "execute_result",
          "data": {
            "text/plain": [
              "array([[7.92486425e+04, 6.00000000e+00, 6.00000000e+00, 3.00000000e+00,\n",
              "        4.01730722e+04, 1.50589091e+06],\n",
              "       [6.12870672e+04, 5.87000000e+00, 8.00000000e+00, 5.00000000e+00,\n",
              "        3.68821594e+04, 1.05898799e+06],\n",
              "       [6.33452400e+04, 7.19000000e+00, 5.00000000e+00, 3.00000000e+00,\n",
              "        3.43102428e+04, 1.26061681e+06],\n",
              "       ...,\n",
              "       [6.33906869e+04, 7.25000000e+00, 4.00000000e+00, 2.00000000e+00,\n",
              "        3.32661455e+04, 1.03072958e+06],\n",
              "       [6.80013312e+04, 5.53000000e+00, 7.00000000e+00, 5.00000000e+00,\n",
              "        4.26256202e+04, 1.19865687e+06],\n",
              "       [6.55105818e+04, 5.99000000e+00, 6.00000000e+00, 4.00000000e+00,\n",
              "        4.65012838e+04, 1.29895048e+06]])"
            ]
          },
          "metadata": {},
          "execution_count": 11
        }
      ]
    },
    {
      "cell_type": "markdown",
      "metadata": {
        "id": "mDWqxS1xZTUe"
      },
      "source": [
        "# Linear Regression Algorithm"
      ]
    },
    {
      "cell_type": "markdown",
      "metadata": {
        "id": "nxvusqmDZd5w"
      },
      "source": [
        "## Using Gradient Descent"
      ]
    },
    {
      "cell_type": "markdown",
      "metadata": {
        "id": "MPqp3kiwJ2X7"
      },
      "source": [
        "### Cost Function"
      ]
    },
    {
      "cell_type": "code",
      "metadata": {
        "id": "u0xGpXWXH_EE"
      },
      "source": [
        "def compute_cost(X, Y, theta):\n",
        "  H = np.dot(X, theta)\n",
        "  difference = H - Y\n",
        "  m = len(X)\n",
        "  J = (1/(2*m))*np.dot(difference.T, difference)\n",
        "  return np.squeeze(J)"
      ],
      "execution_count": null,
      "outputs": []
    },
    {
      "cell_type": "markdown",
      "metadata": {
        "id": "KiTAaebcJ_Cr"
      },
      "source": [
        "### Gradient Descent"
      ]
    },
    {
      "cell_type": "code",
      "metadata": {
        "id": "vdXYLYwBJ72L"
      },
      "source": [
        "def gradient_of_cost_function(X, Y, theta):\n",
        "  H = np.dot(X, theta)\n",
        "  difference =  H - Y\n",
        "  m = len(X)\n",
        "  d_theta = (1/m) * (np.dot(X.T,difference))\n",
        "  return d_theta\n",
        "\n",
        "def gradient_descent(X, Y, theta, cost_diff_threshold, learning_rate):\n",
        "  # To store the costs and theta values for each iteration\n",
        "  thetas = [theta]\n",
        "  costs = [compute_cost(X, Y, theta)]\n",
        "\n",
        "  cost_diff = cost_diff_threshold + 1\n",
        "  i = 0\n",
        "\n",
        "  while(abs(cost_diff) > cost_diff_threshold):\n",
        "      d_theta = gradient_of_cost_function(X, Y, theta)\n",
        "      theta = theta - (learning_rate * d_theta)\n",
        "      costs.append(compute_cost(X, Y, theta))\n",
        "      thetas.append(theta)\n",
        "      cost_diff = costs[i+1] - costs[i]\n",
        "      if(cost_diff > 0):\n",
        "          print(\"Diverging at iter:\",i)\n",
        "          break\n",
        "      i+=1\n",
        "          \n",
        "  return thetas, costs"
      ],
      "execution_count": null,
      "outputs": []
    },
    {
      "cell_type": "markdown",
      "metadata": {
        "id": "0WFfi1ZA0MCD"
      },
      "source": [
        "### Feature Scaling (Standardisation)"
      ]
    },
    {
      "cell_type": "code",
      "metadata": {
        "id": "AX4Pzat-0oml"
      },
      "source": [
        "def standardize(array, array_mean=None, array_std=None):\n",
        "  array_mean = np.mean(array, axis = 0) if (array_mean is None) else array_mean\n",
        "  array_std = np.std(array, axis = 0) if (array_std is None) else array_std\n",
        "\n",
        "  standardized_array = (array - array_mean)/ array_std\n",
        "  return standardized_array, array_mean, array_std\n",
        "\n",
        "\n",
        "def destandardize(array, array_mean, array_std):\n",
        "    return (array * array_std) + array_mean"
      ],
      "execution_count": null,
      "outputs": []
    },
    {
      "cell_type": "markdown",
      "metadata": {
        "id": "vRU5ZDb7fvUF"
      },
      "source": [
        "## Using Normal Equation Method"
      ]
    },
    {
      "cell_type": "code",
      "metadata": {
        "id": "-XGMU_UHf4Cx"
      },
      "source": [
        "def normal_equation(X, Y):\n",
        "  XT_X = np.dot(X.T, X)\n",
        "  inverse = np.linalg.inv(XT_X) \n",
        "  XT_Y = np.dot(X.T, Y)\n",
        "  result = np.dot(inverse,XT_Y)\n",
        "  return result"
      ],
      "execution_count": null,
      "outputs": []
    },
    {
      "cell_type": "markdown",
      "metadata": {
        "id": "UJqWO8fOpV1_"
      },
      "source": [
        "## Evaluation using MSE"
      ]
    },
    {
      "cell_type": "code",
      "metadata": {
        "id": "vmH9QlMhpZpw"
      },
      "source": [
        "def MSE(predicted_Y, actual_Y):\n",
        "    difference = actual_Y - predicted_Y\n",
        "    m = len(predicted_Y)\n",
        "    mse = (1/m)*np.dot(difference.T, difference)\n",
        "    return np.squeeze(mse)"
      ],
      "execution_count": null,
      "outputs": []
    },
    {
      "cell_type": "markdown",
      "metadata": {
        "id": "-FoE-ZKLNB2o"
      },
      "source": [
        "# Plot Utils"
      ]
    },
    {
      "cell_type": "markdown",
      "metadata": {
        "id": "Sl7SJEcme5u1"
      },
      "source": [
        "Plot cost value vs iterations"
      ]
    },
    {
      "cell_type": "code",
      "metadata": {
        "id": "44SyX3y1-Jbw"
      },
      "source": [
        "def plot_cost_vs_iterations(x, y, theta, costs):\n",
        "    fig = plt.figure()\n",
        "    plt.plot(range(len(costs)), costs, c='r', alpha=0.8)\n",
        "    hypothesis_cost = compute_cost(x, y, theta)\n",
        "    plt.annotate('cost : {}'.format(hypothesis_cost), xy = (0.2, 0.6), \n",
        "                    xycoords='axes fraction',color='#3c78d8ff', fontsize=12)\n",
        "    plt.xlabel('iterations')\n",
        "    plt.ylabel('cost')\n",
        "    plt.show()"
      ],
      "execution_count": null,
      "outputs": []
    },
    {
      "cell_type": "markdown",
      "metadata": {
        "id": "Ggeewb48gI7G"
      },
      "source": [
        "# Applying Linear Regression on House-Price Prediction Dataset"
      ]
    },
    {
      "cell_type": "markdown",
      "metadata": {
        "id": "4HEJioINgRKB"
      },
      "source": [
        "Splitting into Train and Test sets"
      ]
    },
    {
      "cell_type": "code",
      "metadata": {
        "id": "Kr7iNx07Srb2"
      },
      "source": [
        "np.random.seed(11235811)\n",
        "data_count = housing_data.shape[0]\n",
        "permuted_indices = np.random.permutation(data_count)\n",
        "shuffled_data = housing_data[permuted_indices]"
      ],
      "execution_count": null,
      "outputs": []
    },
    {
      "cell_type": "code",
      "metadata": {
        "id": "CkUfKfw6jGOk"
      },
      "source": [
        "train_ratio = 0.8\n",
        "test_ratio = 0.2\n",
        "\n",
        "train_count = np.int(train_ratio * data_count)\n",
        "training_set = shuffled_data[:train_count, :]\n",
        "test_set = shuffled_data[train_count:, :]"
      ],
      "execution_count": null,
      "outputs": []
    },
    {
      "cell_type": "markdown",
      "metadata": {
        "id": "z5JTsg2kmIM2"
      },
      "source": [
        "Splitting into X and Y and reshaping"
      ]
    },
    {
      "cell_type": "code",
      "metadata": {
        "id": "Z7X8imuB4hi-"
      },
      "source": [
        "def prepare_X_Y(data):\n",
        "    split_X = data[:, :-1]\n",
        "    split_Y = data[:, -1]\n",
        "\n",
        "    Y_reshaped = split_Y.reshape(-1,1)\n",
        "    return split_X, Y_reshaped"
      ],
      "execution_count": null,
      "outputs": []
    },
    {
      "cell_type": "code",
      "metadata": {
        "id": "2Da4mZ7e4n6r",
        "colab": {
          "base_uri": "https://localhost:8080/"
        },
        "outputId": "a09536ea-8682-4b5e-99a5-ac7b186d19a6"
      },
      "source": [
        "train_X, train_Y = prepare_X_Y(training_set)\n",
        "test_X, test_Y = prepare_X_Y(test_set)\n",
        "\n",
        "print(train_X.shape, train_Y.shape)\n",
        "print(test_X.shape, test_Y.shape)"
      ],
      "execution_count": null,
      "outputs": [
        {
          "output_type": "stream",
          "text": [
            "(3992, 5) (3992, 1)\n",
            "(998, 5) (998, 1)\n"
          ],
          "name": "stdout"
        }
      ]
    },
    {
      "cell_type": "markdown",
      "metadata": {
        "id": "ENN88PicnAYT"
      },
      "source": [
        "### Using Gradient Descent"
      ]
    },
    {
      "cell_type": "code",
      "metadata": {
        "id": "khWCGnEowM8_",
        "colab": {
          "base_uri": "https://localhost:8080/"
        },
        "outputId": "09158d32-b472-4290-868b-9fdede9f5839"
      },
      "source": [
        "num_parameters = train_X.shape[1] + 1\n",
        "theta = np.random.rand(num_parameters,1)\n",
        "theta = theta\n",
        "theta"
      ],
      "execution_count": null,
      "outputs": [
        {
          "output_type": "execute_result",
          "data": {
            "text/plain": [
              "array([[0.03159903],\n",
              "       [0.12033682],\n",
              "       [0.87996077],\n",
              "       [0.31372637],\n",
              "       [0.78477141],\n",
              "       [0.66878378]])"
            ]
          },
          "metadata": {},
          "execution_count": 22
        }
      ]
    },
    {
      "cell_type": "markdown",
      "metadata": {
        "id": "qUvKZi2eIg2_"
      },
      "source": [
        "#### Standardising Train set"
      ]
    },
    {
      "cell_type": "markdown",
      "metadata": {
        "id": "4ME-jqenOLfR"
      },
      "source": [
        "- Standardising data for the cost function to converge faster, since features are of different scale in this problem.<br>Ex: \n",
        "<br>$\\hspace{0.5cm}$Range of Area Population: (172, 69622),\n",
        "<br>$\\hspace{0.5cm}$Range of No. of Rooms: (3, 10))<br>\n",
        "- Predictions of a model are NOT affected by Feature Scaling.\n",
        "- You can try with non-standardized data and observe that it takes longer time to converge (with $\\alpha \\approx 10^{-10}$)."
      ]
    },
    {
      "cell_type": "code",
      "metadata": {
        "id": "HjDGJvPIIgSp"
      },
      "source": [
        "train_X_scaled, train_X_mean, train_X_std = standardize(train_X)\n",
        "train_X_scaled = np.insert(train_X_scaled, 0, 1, axis=1)\n",
        "\n",
        "train_Y_scaled, train_Y_mean, train_Y_std = standardize(train_Y)"
      ],
      "execution_count": null,
      "outputs": []
    },
    {
      "cell_type": "markdown",
      "metadata": {
        "id": "0B_24xNNISFJ"
      },
      "source": [
        "#### Training using GD"
      ]
    },
    {
      "cell_type": "code",
      "metadata": {
        "id": "mgiXI1AaPwJG",
        "colab": {
          "base_uri": "https://localhost:8080/"
        },
        "outputId": "d5bac13f-ed6c-4d95-b063-1ece723a9f92"
      },
      "source": [
        "cost_diff_threshold = 10e-15\n",
        "learning_rate = 0.2\n",
        "\n",
        "thetas, costs = gradient_descent(train_X_scaled, train_Y_scaled, theta, cost_diff_threshold, learning_rate)\n",
        "theta_gradient_descent = thetas[-1]\n",
        "theta_gradient_descent"
      ],
      "execution_count": null,
      "outputs": [
        {
          "output_type": "execute_result",
          "data": {
            "text/plain": [
              "array([[7.12744141e-15],\n",
              "       [6.54993243e-01],\n",
              "       [4.63686269e-01],\n",
              "       [3.32875879e-01],\n",
              "       [9.29675449e-03],\n",
              "       [4.29959489e-01]])"
            ]
          },
          "metadata": {},
          "execution_count": 24
        }
      ]
    },
    {
      "cell_type": "code",
      "metadata": {
        "id": "WAyZMPjYwSxk",
        "colab": {
          "base_uri": "https://localhost:8080/"
        },
        "outputId": "54606b4e-6b14-4469-8e57-7bd621f79c8b"
      },
      "source": [
        "plot_cost_vs_iterations(train_X_scaled, train_Y_scaled, theta_gradient_descent, costs)"
      ],
      "execution_count": null,
      "outputs": [
        {
          "output_type": "display_data",
          "data": {
            "image/png": "[encoded data removed]",
            "text/plain": [
              "<Figure size 432x288 with 1 Axes>"
            ]
          },
          "metadata": {
            "needs_background": "light"
          }
        }
      ]
    },
    {
      "cell_type": "markdown",
      "metadata": {
        "id": "WEpmccFtUztr"
      },
      "source": [
        "#### Evaluation using Test set"
      ]
    },
    {
      "cell_type": "markdown",
      "metadata": {
        "id": "6_0vrjUGLIYh"
      },
      "source": [
        "##### Standardising Test set\n",
        "The feature scaling used on the training data should be applied as it is on the test data."
      ]
    },
    {
      "cell_type": "code",
      "metadata": {
        "id": "dadD7o-wU_Uy"
      },
      "source": [
        "test_X_scaled, _, __ = standardize(test_X, train_X_mean, train_X_std)\n",
        "test_X_scaled = np.insert(test_X_scaled, 0, 1, axis=1)"
      ],
      "execution_count": null,
      "outputs": []
    },
    {
      "cell_type": "markdown",
      "metadata": {
        "id": "DB-7xl19LCnF"
      },
      "source": [
        "##### Prediction\n",
        "We need to convert the range of predicted price values to that of the actual price values, to compare and report MSE on test set.<br>Hence calling the `destandardize()` function."
      ]
    },
    {
      "cell_type": "code",
      "metadata": {
        "id": "HSTRFcPJLAgE",
        "colab": {
          "base_uri": "https://localhost:8080/"
        },
        "outputId": "09486572-7026-4625-8327-4069dfbb0697"
      },
      "source": [
        "predicted_test_Y = np.dot(test_X_scaled, theta_gradient_descent)\n",
        "predicted_test_Y = destandardize(predicted_test_Y, train_Y_mean, train_Y_std)\n",
        "\n",
        "mse_gradient_descent = MSE(predicted_test_Y, test_Y)\n",
        "mse_gradient_descent"
      ],
      "execution_count": null,
      "outputs": [
        {
          "output_type": "execute_result",
          "data": {
            "text/plain": [
              "array(1.16455724e+10)"
            ]
          },
          "metadata": {},
          "execution_count": 27
        }
      ]
    },
    {
      "cell_type": "markdown",
      "metadata": {
        "id": "LXPXbyR0L9bz"
      },
      "source": [
        "<b>Plotting the predicted and actual values of house prices:</b><br>\n",
        "We can observe that predicted values are pretty close to the actual ones, since they pass through the line with slope 1 "
      ]
    },
    {
      "cell_type": "code",
      "metadata": {
        "id": "82NP27XWZkBq",
        "colab": {
          "base_uri": "https://localhost:8080/"
        },
        "outputId": "9244c96e-e5b9-4005-8f03-8096d32994ff"
      },
      "source": [
        "plt.scatter(test_Y, predicted_test_Y, edgecolor='white')\n",
        "plt.xlabel('Actual Test Y')\n",
        "plt.ylabel('Predicted Test Y')\n",
        "plt.plot([0,2.3e6], [0,2.3e6], 'r') #for line with slope 1\n",
        "plt.show()"
      ],
      "execution_count": null,
      "outputs": [
        {
          "output_type": "display_data",
          "data": {
            "image/png": "[encoded data removed]",
            "text/plain": [
              "<Figure size 432x288 with 1 Axes>"
            ]
          },
          "metadata": {
            "needs_background": "light"
          }
        }
      ]
    },
    {
      "cell_type": "markdown",
      "metadata": {
        "id": "uSLfMrMOEneT"
      },
      "source": [
        "### Using Normal Equation Method"
      ]
    },
    {
      "cell_type": "code",
      "metadata": {
        "id": "FYOHsVSaHvII"
      },
      "source": [
        "train_X_with_1s = np.insert(train_X, 0, 1, axis=1)\n",
        "test_X_with_1s = np.insert(test_X, 0, 1, axis=1)"
      ],
      "execution_count": null,
      "outputs": []
    },
    {
      "cell_type": "code",
      "metadata": {
        "id": "gufpvCBbEvHY",
        "colab": {
          "base_uri": "https://localhost:8080/"
        },
        "outputId": "9add6f6a-c295-4e24-96e0-eb3b4612f7c5"
      },
      "source": [
        "theta_normal_eqn = normal_equation(train_X_with_1s, train_Y)\n",
        "theta_normal_eqn"
      ],
      "execution_count": null,
      "outputs": [
        {
          "output_type": "execute_result",
          "data": {
            "text/plain": [
              "array([[-2.50496229e+06],\n",
              "       [ 2.15059332e+01],\n",
              "       [ 1.64522265e+05],\n",
              "       [ 1.10664314e+05],\n",
              "       [ 2.67802661e+03],\n",
              "       [ 1.52051041e+01]])"
            ]
          },
          "metadata": {},
          "execution_count": 30
        }
      ]
    },
    {
      "cell_type": "markdown",
      "metadata": {
        "id": "AU5ygRJfHWHY"
      },
      "source": [
        "#### Evaluation using Test set"
      ]
    },
    {
      "cell_type": "code",
      "metadata": {
        "id": "gGRriXKLEzZf",
        "colab": {
          "base_uri": "https://localhost:8080/"
        },
        "outputId": "cd735be7-11c8-4f7f-8660-5825159b2fb0"
      },
      "source": [
        "predicted_test_Y = np.dot(test_X_with_1s, theta_normal_eqn)\n",
        "mse_normal_eqn = MSE(predicted_test_Y, test_Y)\n",
        "mse_normal_eqn"
      ],
      "execution_count": null,
      "outputs": [
        {
          "output_type": "execute_result",
          "data": {
            "text/plain": [
              "array(1.16455724e+10)"
            ]
          },
          "metadata": {},
          "execution_count": 31
        }
      ]
    },
    {
      "cell_type": "code",
      "metadata": {
        "id": "ubJgYz02Kzq6",
        "colab": {
          "base_uri": "https://localhost:8080/"
        },
        "outputId": "34f63ed3-67cf-4c66-e818-a8cdcfc505a8"
      },
      "source": [
        "plt.scatter(test_Y, predicted_test_Y, edgecolor='white')\n",
        "plt.xlabel('Actual Test Y')\n",
        "plt.ylabel('Predicted Test Y')\n",
        "plt.plot([0,2.3e6], [0,2.3e6], 'r') #for line with slope 1\n",
        "plt.show()"
      ],
      "execution_count": null,
      "outputs": [
        {
          "output_type": "display_data",
          "data": {
            "image/png": "[encoded data removed]",
            "text/plain": [
              "<Figure size 432x288 with 1 Axes>"
            ]
          },
          "metadata": {
            "needs_background": "light"
          }
        }
      ]
    }
  ]
}